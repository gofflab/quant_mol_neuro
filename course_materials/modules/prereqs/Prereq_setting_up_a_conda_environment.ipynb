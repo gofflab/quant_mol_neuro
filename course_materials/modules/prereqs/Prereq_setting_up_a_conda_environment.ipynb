{
 "cells": [
  {
   "cell_type": "markdown",
   "metadata": {},
   "source": [
    " # Conda Environment Setup for Neurogenomics\n",
    "\n",
    " This notebook will guide you through the steps to set up a Conda environment for the fall 2025 Neurogenomics course.\n",
    "\n",
    " Make sure you have Conda installed on your system. You can download it from the [Miniforge github repository](https://github.com/conda-forge/miniforge).\n",
    "\n",
    "\n",
    "\n",
    " You can find the specific installation instructions [here](https://github.com/conda-forge/miniforge?tab=readme-ov-file#install)."
   ]
  },
  {
   "cell_type": "markdown",
   "metadata": {},
   "source": [
    " ## What is conda/mamba/anaconda?\n",
    "\n",
    " Conda is an open-source _package management system_ and environment management system that runs on Windows, macOS, and Linux. It is used to install, run, and update packages and their dependencies which means that it allows you to 'compartmentalize' your projects and have multiple different working environments for different applications or workflows.\n",
    "\n",
    "\n",
    "\n",
    " Mamba is a reimplementation of the conda package manager in C++, which makes it faster and more efficient. Anaconda is a distribution of Python and R and other scientific computing and data science tools as well as many other useful packages.\n",
    "\n",
    "\n",
    "\n",
    " For all intents and purposes, you can consider conda, mamba, and anaconda to be interchangeable in the context of this course."
   ]
  },
  {
   "cell_type": "markdown",
   "metadata": {},
   "source": [
    " ## Why conda?\n",
    "\n",
    " Conda is widely used in the scientific computing and data science communities because it simplifies package management and deployment. It allows users to create isolated environments for different projects, ensuring that dependencies do not conflict with each other. This is particularly useful in fields like genomics and bioinformatics, where different projects may require different versions of libraries and tools."
   ]
  },
  {
   "cell_type": "markdown",
   "metadata": {},
   "source": [
    " ## Create a conda environment from an existing environment definition file"
   ]
  },
  {
   "cell_type": "markdown",
   "metadata": {},
   "source": [
    " To get up and running with the course materials, we will create a new conda environment using a predefined YAML file with the necessary packages required for the first modules of this course.  You can use this environment throughout the course if you like, or create your own as needed for your project(s).\n",
    "\n",
    "\n",
    "\n",
    " The file we will use is located in the course github repository [https://github.com/gofflab/quant_mol_neuro](https://github.com/gofflab/quant_mol_neuro), in the `environment` folder and is named `environment.yml`.\n",
    "\n",
    "\n",
    "\n",
    " To download the file directly click [here](https://raw.githubusercontent.com/gofflab/quant_mol_neuro/refs/heads/main/environment/environment.yml)."
   ]
  },
  {
   "cell_type": "markdown",
   "metadata": {},
   "source": [
    " Now that we have our environment file, we can create a new conda environment using the following command in the terminal:\n",
    "\n",
    "\n",
    "\n",
    " ```bash\n",
    "\n",
    " conda env create -f environment.yml\n",
    "\n",
    " ```\n",
    "\n",
    "\n",
    "\n",
    " This command will create a new conda environment with all the packages specified in the `environment.yml` file. Once the environment is created, we need to activate it using:\n",
    "\n",
    "\n",
    "\n",
    " ```bash\n",
    "\n",
    " conda activate neurogenomics\n",
    "\n",
    " ```\n",
    "\n"
   ]
  },
  {
   "cell_type": "markdown",
   "metadata": {},
   "source": [
    " Activating a conda environment is like 'stepping inside' that environment to execute commands or tools contained within. You must be careful throughout the course to ensure that you are working inside the correct enviroment (especially if you create multiple working environments).\n",
    "\n",
    "\n",
    "\n",
    " Documentation for how to use mamba/conda can be found here: [mamba](https://mamba.readthedocs.io/en/latest/index.html)"
   ]
  },
  {
   "cell_type": "code",
   "execution_count": null,
   "metadata": {},
   "outputs": [],
   "source": []
  }
 ],
 "metadata": {
  "language_info": {
   "codemirror_mode": {
    "name": "ipython",
    "version": 3
   },
   "file_extension": ".py",
   "mimetype": "text/x-python",
   "name": "python",
   "nbconvert_exporter": "python",
   "pygments_lexer": "ipython3",
   "version": 3
  }
 },
 "nbformat": 4,
 "nbformat_minor": 2
}
